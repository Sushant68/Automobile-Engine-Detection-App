{
 "cells": [
  {
   "cell_type": "code",
   "execution_count": 21,
   "id": "1a96ff7b-03da-40de-b2c9-c7d5a52f9821",
   "metadata": {},
   "outputs": [],
   "source": [
    "import os\n",
    "import cv2\n",
    "import numpy as np\n",
    "import tensorflow as tf\n",
    "from tensorflow.keras import layers, models\n",
    "import xml.etree.ElementTree as ET"
   ]
  },
  {
   "cell_type": "markdown",
   "id": "07a2c3a1-08cf-41db-953d-e964b901c89a",
   "metadata": {},
   "source": [
    "## Function to Parse xml files"
   ]
  },
  {
   "cell_type": "code",
   "execution_count": 22,
   "id": "97c07d89-b7ee-49be-97c4-d0835dfa60ff",
   "metadata": {},
   "outputs": [],
   "source": [
    "def parse_annotation(xml_file):\n",
    "    print(\"XML File Path:\", xml_path)\n",
    "    tree= ET.parse(xml_file)\n",
    "    root= tree.getroot()\n",
    "    objects= root.findall('object')\n",
    "    annotations= []\n",
    "\n",
    "    for obj in objects:\n",
    "        name= obj.find('name').text\n",
    "        bbox= obj.find('bndbox')\n",
    "        xmin= int(bbox.find('xmin').text)\n",
    "        ymin= int(bbox.find('ymin').text)\n",
    "        xmax= int(bbox.find('xmax').text)\n",
    "        ymax= int(bbox.find('ymax').text)\n",
    "\n",
    "        image_height= int(root.find('size').find('height').text)\n",
    "        image_width= int(root.find('size').find('width').text)\n",
    "        image_channels= 3\n",
    "\n",
    "\n",
    "        annotations.append((xmin, ymin, xmax, ymax))\n",
    "\n",
    "    return annotations"
   ]
  },
  {
   "cell_type": "markdown",
   "id": "d1e849d1-9573-49b3-b177-ff212319ce6b",
   "metadata": {},
   "source": [
    "## Function to Preprocess Data: Read, Resize, Rescale, Parse annotations"
   ]
  },
  {
   "cell_type": "code",
   "execution_count": 23,
   "id": "134269f3-0a72-4226-89b9-f88fb4024e05",
   "metadata": {},
   "outputs": [],
   "source": [
    "def preprocess_data(image_path, xml_path, target_size= (224, 224)):\n",
    "    img= cv2.imread(image_path)\n",
    "    img= cv2.resize(img, target_size)\n",
    "    img= img/(255.0)\n",
    "    annotations= parse_annotation(xml_path)\n",
    "    return img, annotations"
   ]
  },
  {
   "cell_type": "markdown",
   "id": "53c98805-4780-48ea-9981-cb33edce2625",
   "metadata": {},
   "source": [
    "## Function to Create Bounding Box for the Target Object"
   ]
  },
  {
   "cell_type": "code",
   "execution_count": 24,
   "id": "41a20424-c7ed-4fcf-80c5-b11d9eb70369",
   "metadata": {},
   "outputs": [],
   "source": [
    "def create_bound_box(img,bbox):\n",
    "    \n",
    "    print(bbox)\n",
    "    xmin, ymin, xmax, ymax= bbox\n",
    "    \n",
    "    cv2.rectangle(img, (xmin, ymin), (xmax, ymax), (0, 0 , 255), 3)\n",
    "    \n",
    "    return img"
   ]
  },
  {
   "cell_type": "markdown",
   "id": "5bcf4771-3d3c-49b3-ad01-4d5c6cb3c4a2",
   "metadata": {},
   "source": [
    "## Uploading Train and Test Data"
   ]
  },
  {
   "cell_type": "code",
   "execution_count": 25,
   "id": "788cfe1f-07a4-41e3-9108-2fe0f9e596f1",
   "metadata": {},
   "outputs": [],
   "source": [
    "folder_train= r'C:\\Users\\sushant.gupta\\Desktop\\Project Work\\Image Dataset\\Train'"
   ]
  },
  {
   "cell_type": "code",
   "execution_count": 26,
   "id": "8eac513f-e7d4-413a-b5cf-31db9224a172",
   "metadata": {},
   "outputs": [],
   "source": [
    "folder_test= r'C:\\Users\\sushant.gupta\\Desktop\\Project Work\\Image Dataset\\Test'"
   ]
  },
  {
   "cell_type": "markdown",
   "id": "42c74cdf-c07e-4aa5-ad58-b6a75b75ae3c",
   "metadata": {},
   "source": [
    "## Image Augmentation"
   ]
  },
  {
   "cell_type": "code",
   "execution_count": 27,
   "id": "e90bc65f-da90-415e-9d3f-dc6b395d8e58",
   "metadata": {},
   "outputs": [],
   "source": [
    "def H_flip_image_and_bbox(image, bbox):\n",
    "    # Horizontally flip the image\n",
    "    flipped_image = tf.keras.layers.RandomFlip(mode= \"horizontal\", seed= 42)(image)\n",
    "    \n",
    "    # Adjust bounding box coordinates\n",
    "    image_width = tf.cast(tf.shape(image)[1], tf.float32)\n",
    "    xmin, ymin, xmax, ymax = tf.unstack(bbox, axis=-1)\n",
    "    ymin= tf.cast(ymin, tf.float32)\n",
    "    ymax= tf.cast(ymax, tf.float32)\n",
    "    flipped_xmin = image_width - tf.cast(xmax, tf.float32)\n",
    "    flipped_xmax = image_width - tf.cast(xmin, tf.float32)\n",
    "    flipped_bbox = tf.stack([flipped_xmin, ymin, flipped_xmax, ymax], axis=-1)\n",
    "    \n",
    "    return flipped_image, flipped_bbox"
   ]
  },
  {
   "cell_type": "code",
   "execution_count": 28,
   "id": "c8870b5e-5c0d-4d40-b498-7d66b5dc1fb9",
   "metadata": {},
   "outputs": [],
   "source": [
    "def V_flip_image_and_bbox(image, bbox):\n",
    "    # Horizontally flip the image\n",
    "    flipped_image = tf.keras.layers.RandomFlip(mode= \"vertical\", seed= 42)(image)\n",
    "    \n",
    "    # Adjust bounding box coordinates\n",
    "    image_height = tf.cast(tf.shape(image)[0], tf.float32)\n",
    "    xmin, ymin, xmax, ymax = tf.unstack(bbox, axis=-1)\n",
    "    xmin= tf.cast(xmin, tf.float32)\n",
    "    xmax= tf.cast(xmax, tf.float32)\n",
    "    flipped_ymin = image_height - tf.cast(ymax, tf.float32)\n",
    "    flipped_ymax = image_height - tf.cast(ymin, tf.float32)\n",
    "    flipped_bbox = tf.stack([xmin, flipped_ymin, xmax, flipped_ymax], axis=-1)\n",
    "    \n",
    "    return flipped_image, flipped_bbox"
   ]
  },
  {
   "cell_type": "markdown",
   "id": "81542a19-10c2-49a9-ae4a-69c51b90fbb0",
   "metadata": {},
   "source": [
    "## Loading Training Images and Annotations:"
   ]
  },
  {
   "cell_type": "code",
   "execution_count": 29,
   "id": "f5f30b30-9d75-4cb1-a318-d7ca61dcd396",
   "metadata": {},
   "outputs": [],
   "source": [
    "train_images= []\n",
    "train_annotations= []"
   ]
  },
  {
   "cell_type": "code",
   "execution_count": 30,
   "id": "811b2c04-6e23-45a1-8063-4253d4d3e1fe",
   "metadata": {},
   "outputs": [
    {
     "name": "stdout",
     "output_type": "stream",
     "text": [
      "XML File Path: C:\\Users\\sushant.gupta\\Desktop\\Project Work\\Image Dataset\\Train\\FLIR0277.xml\n",
      "XML File Path: C:\\Users\\sushant.gupta\\Desktop\\Project Work\\Image Dataset\\Train\\FLIR0278.xml\n",
      "XML File Path: C:\\Users\\sushant.gupta\\Desktop\\Project Work\\Image Dataset\\Train\\FLIR0279.xml\n",
      "XML File Path: C:\\Users\\sushant.gupta\\Desktop\\Project Work\\Image Dataset\\Train\\FLIR0280.xml\n",
      "XML File Path: C:\\Users\\sushant.gupta\\Desktop\\Project Work\\Image Dataset\\Train\\FLIR0281.xml\n",
      "XML File Path: C:\\Users\\sushant.gupta\\Desktop\\Project Work\\Image Dataset\\Train\\FLIR0282.xml\n",
      "XML File Path: C:\\Users\\sushant.gupta\\Desktop\\Project Work\\Image Dataset\\Train\\FLIR0288.xml\n",
      "XML File Path: C:\\Users\\sushant.gupta\\Desktop\\Project Work\\Image Dataset\\Train\\FLIR0289.xml\n",
      "XML File Path: C:\\Users\\sushant.gupta\\Desktop\\Project Work\\Image Dataset\\Train\\FLIR0290.xml\n",
      "XML File Path: C:\\Users\\sushant.gupta\\Desktop\\Project Work\\Image Dataset\\Train\\FLIR0291.xml\n",
      "There exists no xml_file for the png_file FLIR0315.jpg.\n",
      "XML File Path: C:\\Users\\sushant.gupta\\Desktop\\Project Work\\Image Dataset\\Train\\FLIR0316.xml\n",
      "XML File Path: C:\\Users\\sushant.gupta\\Desktop\\Project Work\\Image Dataset\\Train\\FLIR0317.xml\n",
      "XML File Path: C:\\Users\\sushant.gupta\\Desktop\\Project Work\\Image Dataset\\Train\\FLIR0318.xml\n",
      "XML File Path: C:\\Users\\sushant.gupta\\Desktop\\Project Work\\Image Dataset\\Train\\FLIR0319.xml\n",
      "XML File Path: C:\\Users\\sushant.gupta\\Desktop\\Project Work\\Image Dataset\\Train\\FLIR0320.xml\n",
      "XML File Path: C:\\Users\\sushant.gupta\\Desktop\\Project Work\\Image Dataset\\Train\\FLIR0321.xml\n",
      "XML File Path: C:\\Users\\sushant.gupta\\Desktop\\Project Work\\Image Dataset\\Train\\FLIR0335.xml\n",
      "XML File Path: C:\\Users\\sushant.gupta\\Desktop\\Project Work\\Image Dataset\\Train\\FLIR0336.xml\n",
      "XML File Path: C:\\Users\\sushant.gupta\\Desktop\\Project Work\\Image Dataset\\Train\\FLIR0337.xml\n",
      "XML File Path: C:\\Users\\sushant.gupta\\Desktop\\Project Work\\Image Dataset\\Train\\FLIR0338.xml\n",
      "XML File Path: C:\\Users\\sushant.gupta\\Desktop\\Project Work\\Image Dataset\\Train\\FLIR0345.xml\n",
      "XML File Path: C:\\Users\\sushant.gupta\\Desktop\\Project Work\\Image Dataset\\Train\\FLIR0346.xml\n",
      "XML File Path: C:\\Users\\sushant.gupta\\Desktop\\Project Work\\Image Dataset\\Train\\FLIR0347.xml\n",
      "XML File Path: C:\\Users\\sushant.gupta\\Desktop\\Project Work\\Image Dataset\\Train\\FLIR0348.xml\n",
      "XML File Path: C:\\Users\\sushant.gupta\\Desktop\\Project Work\\Image Dataset\\Train\\FLIR0349.xml\n",
      "XML File Path: C:\\Users\\sushant.gupta\\Desktop\\Project Work\\Image Dataset\\Train\\FLIR0350.xml\n",
      "XML File Path: C:\\Users\\sushant.gupta\\Desktop\\Project Work\\Image Dataset\\Train\\FLIR0351.xml\n",
      "XML File Path: C:\\Users\\sushant.gupta\\Desktop\\Project Work\\Image Dataset\\Train\\FLIR0352.xml\n",
      "XML File Path: C:\\Users\\sushant.gupta\\Desktop\\Project Work\\Image Dataset\\Train\\FLIR0353.xml\n",
      "XML File Path: C:\\Users\\sushant.gupta\\Desktop\\Project Work\\Image Dataset\\Train\\FLIR0354.xml\n",
      "XML File Path: C:\\Users\\sushant.gupta\\Desktop\\Project Work\\Image Dataset\\Train\\FLIR0355.xml\n",
      "XML File Path: C:\\Users\\sushant.gupta\\Desktop\\Project Work\\Image Dataset\\Train\\FLIR0356.xml\n",
      "XML File Path: C:\\Users\\sushant.gupta\\Desktop\\Project Work\\Image Dataset\\Train\\FLIR0357.xml\n",
      "XML File Path: C:\\Users\\sushant.gupta\\Desktop\\Project Work\\Image Dataset\\Train\\FLIR0358.xml\n",
      "There exists no xml_file for the png_file FLIR0364.jpg.\n",
      "There exists no xml_file for the png_file FLIR0365.jpg.\n",
      "There exists no xml_file for the png_file FLIR0366.jpg.\n",
      "There exists no xml_file for the png_file FLIR0367.jpg.\n",
      "There exists no xml_file for the png_file FLIR0372.jpg.\n",
      "There exists no xml_file for the png_file FLIR0373.jpg.\n",
      "There exists no xml_file for the png_file FLIR0374.jpg.\n",
      "XML File Path: C:\\Users\\sushant.gupta\\Desktop\\Project Work\\Image Dataset\\Train\\FLIR0375.xml\n",
      "There exists no xml_file for the png_file FLIR0376.jpg.\n",
      "XML File Path: C:\\Users\\sushant.gupta\\Desktop\\Project Work\\Image Dataset\\Train\\FLIR0377.xml\n",
      "XML File Path: C:\\Users\\sushant.gupta\\Desktop\\Project Work\\Image Dataset\\Train\\FLIR0378.xml\n",
      "XML File Path: C:\\Users\\sushant.gupta\\Desktop\\Project Work\\Image Dataset\\Train\\FLIR0379.xml\n",
      "XML File Path: C:\\Users\\sushant.gupta\\Desktop\\Project Work\\Image Dataset\\Train\\FLIR0385.xml\n",
      "XML File Path: C:\\Users\\sushant.gupta\\Desktop\\Project Work\\Image Dataset\\Train\\FLIR0386.xml\n",
      "There exists no xml_file for the png_file FLIR0387.jpg.\n",
      "There exists no xml_file for the png_file FLIR0388.jpg.\n",
      "There exists no xml_file for the png_file FLIR0393.jpg.\n",
      "There exists no xml_file for the png_file FLIR0394.jpg.\n",
      "There exists no xml_file for the png_file FLIR0395.jpg.\n",
      "There exists no xml_file for the png_file FLIR0396.jpg.\n",
      "There exists no xml_file for the png_file FLIR0397.jpg.\n",
      "There exists no xml_file for the png_file FLIR0398.jpg.\n",
      "XML File Path: C:\\Users\\sushant.gupta\\Desktop\\Project Work\\Image Dataset\\Train\\FLIR0399.xml\n",
      "XML File Path: C:\\Users\\sushant.gupta\\Desktop\\Project Work\\Image Dataset\\Train\\FLIR0400.xml\n",
      "XML File Path: C:\\Users\\sushant.gupta\\Desktop\\Project Work\\Image Dataset\\Train\\FLIR0401.xml\n",
      "XML File Path: C:\\Users\\sushant.gupta\\Desktop\\Project Work\\Image Dataset\\Train\\FLIR0402.xml\n",
      "XML File Path: C:\\Users\\sushant.gupta\\Desktop\\Project Work\\Image Dataset\\Train\\FLIR0403.xml\n",
      "XML File Path: C:\\Users\\sushant.gupta\\Desktop\\Project Work\\Image Dataset\\Train\\FLIR0404.xml\n",
      "XML File Path: C:\\Users\\sushant.gupta\\Desktop\\Project Work\\Image Dataset\\Train\\FLIR0405.xml\n",
      "XML File Path: C:\\Users\\sushant.gupta\\Desktop\\Project Work\\Image Dataset\\Train\\FLIR0406.xml\n",
      "XML File Path: C:\\Users\\sushant.gupta\\Desktop\\Project Work\\Image Dataset\\Train\\FLIR0407.xml\n",
      "XML File Path: C:\\Users\\sushant.gupta\\Desktop\\Project Work\\Image Dataset\\Train\\FLIR0408.xml\n",
      "There exists no xml_file for the png_file FLIR0411.jpg.\n",
      "XML File Path: C:\\Users\\sushant.gupta\\Desktop\\Project Work\\Image Dataset\\Train\\FLIR0412.xml\n",
      "XML File Path: C:\\Users\\sushant.gupta\\Desktop\\Project Work\\Image Dataset\\Train\\FLIR0413.xml\n",
      "XML File Path: C:\\Users\\sushant.gupta\\Desktop\\Project Work\\Image Dataset\\Train\\FLIR0414.xml\n",
      "XML File Path: C:\\Users\\sushant.gupta\\Desktop\\Project Work\\Image Dataset\\Train\\FLIR0415.xml\n",
      "XML File Path: C:\\Users\\sushant.gupta\\Desktop\\Project Work\\Image Dataset\\Train\\FLIR0416.xml\n",
      "XML File Path: C:\\Users\\sushant.gupta\\Desktop\\Project Work\\Image Dataset\\Train\\FLIR0417.xml\n",
      "XML File Path: C:\\Users\\sushant.gupta\\Desktop\\Project Work\\Image Dataset\\Train\\FLIR0418.xml\n",
      "XML File Path: C:\\Users\\sushant.gupta\\Desktop\\Project Work\\Image Dataset\\Train\\FLIR0419.xml\n",
      "XML File Path: C:\\Users\\sushant.gupta\\Desktop\\Project Work\\Image Dataset\\Train\\FLIR0420.xml\n",
      "XML File Path: C:\\Users\\sushant.gupta\\Desktop\\Project Work\\Image Dataset\\Train\\FLIR0421.xml\n",
      "XML File Path: C:\\Users\\sushant.gupta\\Desktop\\Project Work\\Image Dataset\\Train\\FLIR0422.xml\n",
      "XML File Path: C:\\Users\\sushant.gupta\\Desktop\\Project Work\\Image Dataset\\Train\\FLIR0423.xml\n",
      "XML File Path: C:\\Users\\sushant.gupta\\Desktop\\Project Work\\Image Dataset\\Train\\FLIR0424.xml\n",
      "XML File Path: C:\\Users\\sushant.gupta\\Desktop\\Project Work\\Image Dataset\\Train\\FLIR0425.xml\n",
      "XML File Path: C:\\Users\\sushant.gupta\\Desktop\\Project Work\\Image Dataset\\Train\\FLIR0426.xml\n",
      "XML File Path: C:\\Users\\sushant.gupta\\Desktop\\Project Work\\Image Dataset\\Train\\FLIR0427.xml\n",
      "XML File Path: C:\\Users\\sushant.gupta\\Desktop\\Project Work\\Image Dataset\\Train\\FLIR0429.xml\n",
      "XML File Path: C:\\Users\\sushant.gupta\\Desktop\\Project Work\\Image Dataset\\Train\\FLIR0430.xml\n",
      "XML File Path: C:\\Users\\sushant.gupta\\Desktop\\Project Work\\Image Dataset\\Train\\FLIR0431.xml\n",
      "XML File Path: C:\\Users\\sushant.gupta\\Desktop\\Project Work\\Image Dataset\\Train\\FLIR0432.xml\n",
      "XML File Path: C:\\Users\\sushant.gupta\\Desktop\\Project Work\\Image Dataset\\Train\\FLIR0433.xml\n",
      "XML File Path: C:\\Users\\sushant.gupta\\Desktop\\Project Work\\Image Dataset\\Train\\FLIR0434.xml\n",
      "XML File Path: C:\\Users\\sushant.gupta\\Desktop\\Project Work\\Image Dataset\\Train\\FLIR0435.xml\n",
      "XML File Path: C:\\Users\\sushant.gupta\\Desktop\\Project Work\\Image Dataset\\Train\\FLIR0436.xml\n",
      "XML File Path: C:\\Users\\sushant.gupta\\Desktop\\Project Work\\Image Dataset\\Train\\FLIR0437.xml\n",
      "XML File Path: C:\\Users\\sushant.gupta\\Desktop\\Project Work\\Image Dataset\\Train\\FLIR0438.xml\n",
      "XML File Path: C:\\Users\\sushant.gupta\\Desktop\\Project Work\\Image Dataset\\Train\\FLIR0439.xml\n",
      "XML File Path: C:\\Users\\sushant.gupta\\Desktop\\Project Work\\Image Dataset\\Train\\FLIR0440.xml\n",
      "XML File Path: C:\\Users\\sushant.gupta\\Desktop\\Project Work\\Image Dataset\\Train\\FLIR0441.xml\n",
      "XML File Path: C:\\Users\\sushant.gupta\\Desktop\\Project Work\\Image Dataset\\Train\\FLIR0443.xml\n",
      "There exists no xml_file for the png_file FLIR0444.jpg.\n",
      "There exists no xml_file for the png_file FLIR0445.jpg.\n",
      "There exists no xml_file for the png_file FLIR0446.jpg.\n",
      "There exists no xml_file for the png_file FLIR0447.jpg.\n",
      "There exists no xml_file for the png_file FLIR0448.jpg.\n",
      "XML File Path: C:\\Users\\sushant.gupta\\Desktop\\Project Work\\Image Dataset\\Train\\FLIR0449.xml\n",
      "XML File Path: C:\\Users\\sushant.gupta\\Desktop\\Project Work\\Image Dataset\\Train\\FLIR0450.xml\n",
      "XML File Path: C:\\Users\\sushant.gupta\\Desktop\\Project Work\\Image Dataset\\Train\\FLIR0451.xml\n",
      "XML File Path: C:\\Users\\sushant.gupta\\Desktop\\Project Work\\Image Dataset\\Train\\FLIR0452.xml\n",
      "XML File Path: C:\\Users\\sushant.gupta\\Desktop\\Project Work\\Image Dataset\\Train\\FLIR0453.xml\n",
      "XML File Path: C:\\Users\\sushant.gupta\\Desktop\\Project Work\\Image Dataset\\Train\\FLIR0454.xml\n",
      "XML File Path: C:\\Users\\sushant.gupta\\Desktop\\Project Work\\Image Dataset\\Train\\FLIR0455.xml\n",
      "XML File Path: C:\\Users\\sushant.gupta\\Desktop\\Project Work\\Image Dataset\\Train\\FLIR0456.xml\n",
      "XML File Path: C:\\Users\\sushant.gupta\\Desktop\\Project Work\\Image Dataset\\Train\\FLIR0457.xml\n",
      "XML File Path: C:\\Users\\sushant.gupta\\Desktop\\Project Work\\Image Dataset\\Train\\FLIR0458.xml\n",
      "XML File Path: C:\\Users\\sushant.gupta\\Desktop\\Project Work\\Image Dataset\\Train\\FLIR0459.xml\n",
      "There exists no xml_file for the png_file FLIR0465.jpg.\n",
      "XML File Path: C:\\Users\\sushant.gupta\\Desktop\\Project Work\\Image Dataset\\Train\\FLIR0467.xml\n",
      "XML File Path: C:\\Users\\sushant.gupta\\Desktop\\Project Work\\Image Dataset\\Train\\FLIR0468.xml\n",
      "XML File Path: C:\\Users\\sushant.gupta\\Desktop\\Project Work\\Image Dataset\\Train\\FLIR0469.xml\n",
      "XML File Path: C:\\Users\\sushant.gupta\\Desktop\\Project Work\\Image Dataset\\Train\\FLIR0470.xml\n",
      "XML File Path: C:\\Users\\sushant.gupta\\Desktop\\Project Work\\Image Dataset\\Train\\FLIR0471.xml\n",
      "XML File Path: C:\\Users\\sushant.gupta\\Desktop\\Project Work\\Image Dataset\\Train\\FLIR0472.xml\n",
      "XML File Path: C:\\Users\\sushant.gupta\\Desktop\\Project Work\\Image Dataset\\Train\\FLIR0473.xml\n",
      "XML File Path: C:\\Users\\sushant.gupta\\Desktop\\Project Work\\Image Dataset\\Train\\FLIR0474.xml\n",
      "XML File Path: C:\\Users\\sushant.gupta\\Desktop\\Project Work\\Image Dataset\\Train\\FLIR0475.xml\n",
      "XML File Path: C:\\Users\\sushant.gupta\\Desktop\\Project Work\\Image Dataset\\Train\\FLIR0476.xml\n",
      "XML File Path: C:\\Users\\sushant.gupta\\Desktop\\Project Work\\Image Dataset\\Train\\FLIR0477.xml\n",
      "XML File Path: C:\\Users\\sushant.gupta\\Desktop\\Project Work\\Image Dataset\\Train\\FLIR0478.xml\n",
      "XML File Path: C:\\Users\\sushant.gupta\\Desktop\\Project Work\\Image Dataset\\Train\\FLIR0479.xml\n",
      "XML File Path: C:\\Users\\sushant.gupta\\Desktop\\Project Work\\Image Dataset\\Train\\FLIR0480.xml\n",
      "XML File Path: C:\\Users\\sushant.gupta\\Desktop\\Project Work\\Image Dataset\\Train\\FLIR0481.xml\n",
      "XML File Path: C:\\Users\\sushant.gupta\\Desktop\\Project Work\\Image Dataset\\Train\\FLIR0482.xml\n",
      "XML File Path: C:\\Users\\sushant.gupta\\Desktop\\Project Work\\Image Dataset\\Train\\FLIR0483.xml\n",
      "XML File Path: C:\\Users\\sushant.gupta\\Desktop\\Project Work\\Image Dataset\\Train\\FLIR0484.xml\n",
      "XML File Path: C:\\Users\\sushant.gupta\\Desktop\\Project Work\\Image Dataset\\Train\\FLIR0485.xml\n",
      "XML File Path: C:\\Users\\sushant.gupta\\Desktop\\Project Work\\Image Dataset\\Train\\FLIR0486.xml\n",
      "XML File Path: C:\\Users\\sushant.gupta\\Desktop\\Project Work\\Image Dataset\\Train\\FLIR0487.xml\n",
      "XML File Path: C:\\Users\\sushant.gupta\\Desktop\\Project Work\\Image Dataset\\Train\\FLIR0488.xml\n",
      "XML File Path: C:\\Users\\sushant.gupta\\Desktop\\Project Work\\Image Dataset\\Train\\FLIR0489.xml\n",
      "XML File Path: C:\\Users\\sushant.gupta\\Desktop\\Project Work\\Image Dataset\\Train\\FLIR0490.xml\n",
      "XML File Path: C:\\Users\\sushant.gupta\\Desktop\\Project Work\\Image Dataset\\Train\\FLIR0491.xml\n",
      "XML File Path: C:\\Users\\sushant.gupta\\Desktop\\Project Work\\Image Dataset\\Train\\FLIR0492.xml\n",
      "XML File Path: C:\\Users\\sushant.gupta\\Desktop\\Project Work\\Image Dataset\\Train\\FLIR0499.xml\n",
      "XML File Path: C:\\Users\\sushant.gupta\\Desktop\\Project Work\\Image Dataset\\Train\\FLIR0500.xml\n",
      "XML File Path: C:\\Users\\sushant.gupta\\Desktop\\Project Work\\Image Dataset\\Train\\FLIR0501.xml\n",
      "XML File Path: C:\\Users\\sushant.gupta\\Desktop\\Project Work\\Image Dataset\\Train\\FLIR0502.xml\n",
      "XML File Path: C:\\Users\\sushant.gupta\\Desktop\\Project Work\\Image Dataset\\Train\\FLIR0503.xml\n",
      "XML File Path: C:\\Users\\sushant.gupta\\Desktop\\Project Work\\Image Dataset\\Train\\FLIR0504.xml\n",
      "XML File Path: C:\\Users\\sushant.gupta\\Desktop\\Project Work\\Image Dataset\\Train\\FLIR0505.xml\n",
      "XML File Path: C:\\Users\\sushant.gupta\\Desktop\\Project Work\\Image Dataset\\Train\\FLIR0506.xml\n",
      "XML File Path: C:\\Users\\sushant.gupta\\Desktop\\Project Work\\Image Dataset\\Train\\FLIR0507.xml\n",
      "There exists no xml_file for the png_file FLIR0508.jpg.\n",
      "There exists no xml_file for the png_file FLIR0509.jpg.\n",
      "There exists no xml_file for the png_file FLIR0510.jpg.\n",
      "XML File Path: C:\\Users\\sushant.gupta\\Desktop\\Project Work\\Image Dataset\\Train\\FLIR0511.xml\n",
      "XML File Path: C:\\Users\\sushant.gupta\\Desktop\\Project Work\\Image Dataset\\Train\\FLIR0519.xml\n",
      "XML File Path: C:\\Users\\sushant.gupta\\Desktop\\Project Work\\Image Dataset\\Train\\FLIR0520.xml\n",
      "There exists no xml_file for the png_file FLIR0521.jpg.\n",
      "XML File Path: C:\\Users\\sushant.gupta\\Desktop\\Project Work\\Image Dataset\\Train\\FLIR0522.xml\n",
      "XML File Path: C:\\Users\\sushant.gupta\\Desktop\\Project Work\\Image Dataset\\Train\\FLIR0523.xml\n",
      "There exists no xml_file for the png_file FLIR0524.jpg.\n",
      "XML File Path: C:\\Users\\sushant.gupta\\Desktop\\Project Work\\Image Dataset\\Train\\FLIR0525.xml\n",
      "XML File Path: C:\\Users\\sushant.gupta\\Desktop\\Project Work\\Image Dataset\\Train\\FLIR0526.xml\n",
      "There exists no xml_file for the png_file FLIR0527.jpg.\n",
      "XML File Path: C:\\Users\\sushant.gupta\\Desktop\\Project Work\\Image Dataset\\Train\\FLIR0528.xml\n",
      "XML File Path: C:\\Users\\sushant.gupta\\Desktop\\Project Work\\Image Dataset\\Train\\FLIR0529.xml\n",
      "XML File Path: C:\\Users\\sushant.gupta\\Desktop\\Project Work\\Image Dataset\\Train\\FLIR0530.xml\n",
      "XML File Path: C:\\Users\\sushant.gupta\\Desktop\\Project Work\\Image Dataset\\Train\\FLIR0531.xml\n",
      "XML File Path: C:\\Users\\sushant.gupta\\Desktop\\Project Work\\Image Dataset\\Train\\FLIR0532.xml\n",
      "XML File Path: C:\\Users\\sushant.gupta\\Desktop\\Project Work\\Image Dataset\\Train\\FLIR0533.xml\n",
      "XML File Path: C:\\Users\\sushant.gupta\\Desktop\\Project Work\\Image Dataset\\Train\\FLIR0534.xml\n",
      "XML File Path: C:\\Users\\sushant.gupta\\Desktop\\Project Work\\Image Dataset\\Train\\FLIR0543.xml\n",
      "XML File Path: C:\\Users\\sushant.gupta\\Desktop\\Project Work\\Image Dataset\\Train\\FLIR0544.xml\n",
      "XML File Path: C:\\Users\\sushant.gupta\\Desktop\\Project Work\\Image Dataset\\Train\\FLIR0545.xml\n",
      "XML File Path: C:\\Users\\sushant.gupta\\Desktop\\Project Work\\Image Dataset\\Train\\FLIR0550.xml\n",
      "XML File Path: C:\\Users\\sushant.gupta\\Desktop\\Project Work\\Image Dataset\\Train\\FLIR0551.xml\n",
      "XML File Path: C:\\Users\\sushant.gupta\\Desktop\\Project Work\\Image Dataset\\Train\\FLIR0552.xml\n",
      "XML File Path: C:\\Users\\sushant.gupta\\Desktop\\Project Work\\Image Dataset\\Train\\FLIR0553.xml\n",
      "XML File Path: C:\\Users\\sushant.gupta\\Desktop\\Project Work\\Image Dataset\\Train\\FLIR0554.xml\n",
      "XML File Path: C:\\Users\\sushant.gupta\\Desktop\\Project Work\\Image Dataset\\Train\\FLIR0555.xml\n",
      "XML File Path: C:\\Users\\sushant.gupta\\Desktop\\Project Work\\Image Dataset\\Train\\FLIR0569.xml\n",
      "XML File Path: C:\\Users\\sushant.gupta\\Desktop\\Project Work\\Image Dataset\\Train\\FLIR0572.xml\n",
      "XML File Path: C:\\Users\\sushant.gupta\\Desktop\\Project Work\\Image Dataset\\Train\\FLIR0574.xml\n",
      "XML File Path: C:\\Users\\sushant.gupta\\Desktop\\Project Work\\Image Dataset\\Train\\FLIR0575.xml\n",
      "XML File Path: C:\\Users\\sushant.gupta\\Desktop\\Project Work\\Image Dataset\\Train\\FLIR0578.xml\n",
      "XML File Path: C:\\Users\\sushant.gupta\\Desktop\\Project Work\\Image Dataset\\Train\\FLIR0580.xml\n",
      "XML File Path: C:\\Users\\sushant.gupta\\Desktop\\Project Work\\Image Dataset\\Train\\FLIR0581.xml\n",
      "There exists no xml_file for the png_file FLIR0600.jpg.\n",
      "XML File Path: C:\\Users\\sushant.gupta\\Desktop\\Project Work\\Image Dataset\\Train\\FLIR0610.xml\n",
      "XML File Path: C:\\Users\\sushant.gupta\\Desktop\\Project Work\\Image Dataset\\Train\\FLIR0612.xml\n",
      "XML File Path: C:\\Users\\sushant.gupta\\Desktop\\Project Work\\Image Dataset\\Train\\FLIR0614.xml\n",
      "XML File Path: C:\\Users\\sushant.gupta\\Desktop\\Project Work\\Image Dataset\\Train\\FLIR0616.xml\n",
      "There exists no xml_file for the png_file FLIR0626.jpg.\n",
      "There exists no xml_file for the png_file FLIR0628.jpg.\n",
      "XML File Path: C:\\Users\\sushant.gupta\\Desktop\\Project Work\\Image Dataset\\Train\\FLIR0630.xml\n",
      "XML File Path: C:\\Users\\sushant.gupta\\Desktop\\Project Work\\Image Dataset\\Train\\FLIR0632.xml\n",
      "There exists no xml_file for the png_file FLIR0634.jpg.\n",
      "XML File Path: C:\\Users\\sushant.gupta\\Desktop\\Project Work\\Image Dataset\\Train\\FLIR0636.xml\n",
      "XML File Path: C:\\Users\\sushant.gupta\\Desktop\\Project Work\\Image Dataset\\Train\\FLIR0638.xml\n",
      "XML File Path: C:\\Users\\sushant.gupta\\Desktop\\Project Work\\Image Dataset\\Train\\FLIR0640.xml\n",
      "XML File Path: C:\\Users\\sushant.gupta\\Desktop\\Project Work\\Image Dataset\\Train\\FLIR0650.xml\n",
      "XML File Path: C:\\Users\\sushant.gupta\\Desktop\\Project Work\\Image Dataset\\Train\\FLIR0652.xml\n",
      "There exists no xml_file for the png_file FLIR0654.jpg.\n",
      "There exists no xml_file for the png_file FLIR0662.jpg.\n",
      "XML File Path: C:\\Users\\sushant.gupta\\Desktop\\Project Work\\Image Dataset\\Train\\FLIR0685.xml\n",
      "XML File Path: C:\\Users\\sushant.gupta\\Desktop\\Project Work\\Image Dataset\\Train\\FLIR0687.xml\n",
      "XML File Path: C:\\Users\\sushant.gupta\\Desktop\\Project Work\\Image Dataset\\Train\\FLIR0689.xml\n",
      "XML File Path: C:\\Users\\sushant.gupta\\Desktop\\Project Work\\Image Dataset\\Train\\FLIR0691.xml\n",
      "XML File Path: C:\\Users\\sushant.gupta\\Desktop\\Project Work\\Image Dataset\\Train\\FLIR0693.xml\n",
      "XML File Path: C:\\Users\\sushant.gupta\\Desktop\\Project Work\\Image Dataset\\Train\\FLIR0695.xml\n",
      "XML File Path: C:\\Users\\sushant.gupta\\Desktop\\Project Work\\Image Dataset\\Train\\FLIR0697.xml\n",
      "XML File Path: C:\\Users\\sushant.gupta\\Desktop\\Project Work\\Image Dataset\\Train\\FLIR0698.xml\n",
      "XML File Path: C:\\Users\\sushant.gupta\\Desktop\\Project Work\\Image Dataset\\Train\\FLIR0700.xml\n",
      "XML File Path: C:\\Users\\sushant.gupta\\Desktop\\Project Work\\Image Dataset\\Train\\FLIR0702.xml\n",
      "XML File Path: C:\\Users\\sushant.gupta\\Desktop\\Project Work\\Image Dataset\\Train\\FLIR0703.xml\n",
      "XML File Path: C:\\Users\\sushant.gupta\\Desktop\\Project Work\\Image Dataset\\Train\\FLIR0706.xml\n",
      "There exists no xml_file for the png_file FLIR0718.jpg.\n",
      "XML File Path: C:\\Users\\sushant.gupta\\Desktop\\Project Work\\Image Dataset\\Train\\FLIR0720.xml\n",
      "XML File Path: C:\\Users\\sushant.gupta\\Desktop\\Project Work\\Image Dataset\\Train\\FLIR0722.xml\n",
      "XML File Path: C:\\Users\\sushant.gupta\\Desktop\\Project Work\\Image Dataset\\Train\\FLIR0724.xml\n",
      "XML File Path: C:\\Users\\sushant.gupta\\Desktop\\Project Work\\Image Dataset\\Train\\FLIR0737.xml\n",
      "XML File Path: C:\\Users\\sushant.gupta\\Desktop\\Project Work\\Image Dataset\\Train\\FLIR0741.xml\n",
      "XML File Path: C:\\Users\\sushant.gupta\\Desktop\\Project Work\\Image Dataset\\Train\\FLIR0744.xml\n",
      "XML File Path: C:\\Users\\sushant.gupta\\Desktop\\Project Work\\Image Dataset\\Train\\FLIR0746.xml\n",
      "XML File Path: C:\\Users\\sushant.gupta\\Desktop\\Project Work\\Image Dataset\\Train\\FLIR0758.xml\n",
      "XML File Path: C:\\Users\\sushant.gupta\\Desktop\\Project Work\\Image Dataset\\Train\\FLIR0760.xml\n",
      "XML File Path: C:\\Users\\sushant.gupta\\Desktop\\Project Work\\Image Dataset\\Train\\FLIR0762.xml\n",
      "XML File Path: C:\\Users\\sushant.gupta\\Desktop\\Project Work\\Image Dataset\\Train\\FLIR0763.xml\n",
      "XML File Path: C:\\Users\\sushant.gupta\\Desktop\\Project Work\\Image Dataset\\Train\\FLIR0765.xml\n",
      "XML File Path: C:\\Users\\sushant.gupta\\Desktop\\Project Work\\Image Dataset\\Train\\FLIR0770.xml\n",
      "There exists no xml_file for the png_file FLIR0771.jpg.\n",
      "XML File Path: C:\\Users\\sushant.gupta\\Desktop\\Project Work\\Image Dataset\\Train\\FLIR0773.xml\n",
      "XML File Path: C:\\Users\\sushant.gupta\\Desktop\\Project Work\\Image Dataset\\Train\\FLIR0775.xml\n",
      "XML File Path: C:\\Users\\sushant.gupta\\Desktop\\Project Work\\Image Dataset\\Train\\FLIR0780.xml\n",
      "XML File Path: C:\\Users\\sushant.gupta\\Desktop\\Project Work\\Image Dataset\\Train\\FLIR0783.xml\n",
      "XML File Path: C:\\Users\\sushant.gupta\\Desktop\\Project Work\\Image Dataset\\Train\\FLIR0785.xml\n",
      "XML File Path: C:\\Users\\sushant.gupta\\Desktop\\Project Work\\Image Dataset\\Train\\FLIR0788.xml\n",
      "XML File Path: C:\\Users\\sushant.gupta\\Desktop\\Project Work\\Image Dataset\\Train\\FLIR0790.xml\n",
      "XML File Path: C:\\Users\\sushant.gupta\\Desktop\\Project Work\\Image Dataset\\Train\\FLIR0792.xml\n",
      "XML File Path: C:\\Users\\sushant.gupta\\Desktop\\Project Work\\Image Dataset\\Train\\FLIR0794.xml\n",
      "XML File Path: C:\\Users\\sushant.gupta\\Desktop\\Project Work\\Image Dataset\\Train\\FLIR0796.xml\n",
      "XML File Path: C:\\Users\\sushant.gupta\\Desktop\\Project Work\\Image Dataset\\Train\\FLIR0798.xml\n",
      "XML File Path: C:\\Users\\sushant.gupta\\Desktop\\Project Work\\Image Dataset\\Train\\FLIR0800.xml\n",
      "XML File Path: C:\\Users\\sushant.gupta\\Desktop\\Project Work\\Image Dataset\\Train\\FLIR0802.xml\n",
      "XML File Path: C:\\Users\\sushant.gupta\\Desktop\\Project Work\\Image Dataset\\Train\\FLIR0804.xml\n",
      "There exists no xml_file for the png_file FLIR0818.jpg.\n",
      "XML File Path: C:\\Users\\sushant.gupta\\Desktop\\Project Work\\Image Dataset\\Train\\FLIR0820.xml\n",
      "XML File Path: C:\\Users\\sushant.gupta\\Desktop\\Project Work\\Image Dataset\\Train\\FLIR0822.xml\n",
      "XML File Path: C:\\Users\\sushant.gupta\\Desktop\\Project Work\\Image Dataset\\Train\\FLIR0844.xml\n",
      "XML File Path: C:\\Users\\sushant.gupta\\Desktop\\Project Work\\Image Dataset\\Train\\FLIR0847.xml\n",
      "XML File Path: C:\\Users\\sushant.gupta\\Desktop\\Project Work\\Image Dataset\\Train\\FLIR0849.xml\n",
      "XML File Path: C:\\Users\\sushant.gupta\\Desktop\\Project Work\\Image Dataset\\Train\\FLIR0855.xml\n",
      "XML File Path: C:\\Users\\sushant.gupta\\Desktop\\Project Work\\Image Dataset\\Train\\FLIR0858.xml\n",
      "XML File Path: C:\\Users\\sushant.gupta\\Desktop\\Project Work\\Image Dataset\\Train\\FLIR0893.xml\n",
      "XML File Path: C:\\Users\\sushant.gupta\\Desktop\\Project Work\\Image Dataset\\Train\\FLIR0895.xml\n",
      "XML File Path: C:\\Users\\sushant.gupta\\Desktop\\Project Work\\Image Dataset\\Train\\FLIR0897.xml\n",
      "XML File Path: C:\\Users\\sushant.gupta\\Desktop\\Project Work\\Image Dataset\\Train\\FLIR0899.xml\n",
      "XML File Path: C:\\Users\\sushant.gupta\\Desktop\\Project Work\\Image Dataset\\Train\\FLIR0901.xml\n",
      "XML File Path: C:\\Users\\sushant.gupta\\Desktop\\Project Work\\Image Dataset\\Train\\FLIR0903.xml\n",
      "XML File Path: C:\\Users\\sushant.gupta\\Desktop\\Project Work\\Image Dataset\\Train\\FLIR0905.xml\n",
      "XML File Path: C:\\Users\\sushant.gupta\\Desktop\\Project Work\\Image Dataset\\Train\\FLIR0907.xml\n",
      "XML File Path: C:\\Users\\sushant.gupta\\Desktop\\Project Work\\Image Dataset\\Train\\FLIR0908.xml\n",
      "XML File Path: C:\\Users\\sushant.gupta\\Desktop\\Project Work\\Image Dataset\\Train\\FLIR0910.xml\n",
      "XML File Path: C:\\Users\\sushant.gupta\\Desktop\\Project Work\\Image Dataset\\Train\\FLIR0912.xml\n",
      "XML File Path: C:\\Users\\sushant.gupta\\Desktop\\Project Work\\Image Dataset\\Train\\FLIR0914.xml\n",
      "XML File Path: C:\\Users\\sushant.gupta\\Desktop\\Project Work\\Image Dataset\\Train\\FLIR0917.xml\n",
      "XML File Path: C:\\Users\\sushant.gupta\\Desktop\\Project Work\\Image Dataset\\Train\\FLIR0919.xml\n",
      "XML File Path: C:\\Users\\sushant.gupta\\Desktop\\Project Work\\Image Dataset\\Train\\FLIR0930.xml\n",
      "XML File Path: C:\\Users\\sushant.gupta\\Desktop\\Project Work\\Image Dataset\\Train\\FLIR0935.xml\n",
      "XML File Path: C:\\Users\\sushant.gupta\\Desktop\\Project Work\\Image Dataset\\Train\\FLIR0940.xml\n",
      "XML File Path: C:\\Users\\sushant.gupta\\Desktop\\Project Work\\Image Dataset\\Train\\FLIR0942.xml\n",
      "XML File Path: C:\\Users\\sushant.gupta\\Desktop\\Project Work\\Image Dataset\\Train\\FLIR0943.xml\n",
      "XML File Path: C:\\Users\\sushant.gupta\\Desktop\\Project Work\\Image Dataset\\Train\\FLIR0946.xml\n",
      "XML File Path: C:\\Users\\sushant.gupta\\Desktop\\Project Work\\Image Dataset\\Train\\FLIR0948.xml\n",
      "XML File Path: C:\\Users\\sushant.gupta\\Desktop\\Project Work\\Image Dataset\\Train\\FLIR0950.xml\n",
      "XML File Path: C:\\Users\\sushant.gupta\\Desktop\\Project Work\\Image Dataset\\Train\\FLIR0952.xml\n",
      "XML File Path: C:\\Users\\sushant.gupta\\Desktop\\Project Work\\Image Dataset\\Train\\FLIR0962.xml\n",
      "XML File Path: C:\\Users\\sushant.gupta\\Desktop\\Project Work\\Image Dataset\\Train\\FLIR0964.xml\n",
      "XML File Path: C:\\Users\\sushant.gupta\\Desktop\\Project Work\\Image Dataset\\Train\\FLIR0966.xml\n",
      "XML File Path: C:\\Users\\sushant.gupta\\Desktop\\Project Work\\Image Dataset\\Train\\FLIR0968.xml\n",
      "XML File Path: C:\\Users\\sushant.gupta\\Desktop\\Project Work\\Image Dataset\\Train\\FLIR0978.xml\n",
      "XML File Path: C:\\Users\\sushant.gupta\\Desktop\\Project Work\\Image Dataset\\Train\\FLIR0980.xml\n",
      "XML File Path: C:\\Users\\sushant.gupta\\Desktop\\Project Work\\Image Dataset\\Train\\FLIR0982.xml\n",
      "XML File Path: C:\\Users\\sushant.gupta\\Desktop\\Project Work\\Image Dataset\\Train\\FLIR0984.xml\n",
      "XML File Path: C:\\Users\\sushant.gupta\\Desktop\\Project Work\\Image Dataset\\Train\\FLIR0990.xml\n",
      "XML File Path: C:\\Users\\sushant.gupta\\Desktop\\Project Work\\Image Dataset\\Train\\FLIR0993.xml\n",
      "XML File Path: C:\\Users\\sushant.gupta\\Desktop\\Project Work\\Image Dataset\\Train\\FLIR0995.xml\n",
      "XML File Path: C:\\Users\\sushant.gupta\\Desktop\\Project Work\\Image Dataset\\Train\\FLIR0997.xml\n",
      "XML File Path: C:\\Users\\sushant.gupta\\Desktop\\Project Work\\Image Dataset\\Train\\FLIR0999.xml\n",
      "XML File Path: C:\\Users\\sushant.gupta\\Desktop\\Project Work\\Image Dataset\\Train\\FLIR1001.xml\n",
      "XML File Path: C:\\Users\\sushant.gupta\\Desktop\\Project Work\\Image Dataset\\Train\\FLIR1003.xml\n",
      "XML File Path: C:\\Users\\sushant.gupta\\Desktop\\Project Work\\Image Dataset\\Train\\FLIR1005.xml\n",
      "XML File Path: C:\\Users\\sushant.gupta\\Desktop\\Project Work\\Image Dataset\\Train\\FLIR1020.xml\n",
      "XML File Path: C:\\Users\\sushant.gupta\\Desktop\\Project Work\\Image Dataset\\Train\\FLIR1022.xml\n",
      "XML File Path: C:\\Users\\sushant.gupta\\Desktop\\Project Work\\Image Dataset\\Train\\FLIR1024.xml\n",
      "XML File Path: C:\\Users\\sushant.gupta\\Desktop\\Project Work\\Image Dataset\\Train\\FLIR1032.xml\n",
      "XML File Path: C:\\Users\\sushant.gupta\\Desktop\\Project Work\\Image Dataset\\Train\\FLIR1034.xml\n",
      "XML File Path: C:\\Users\\sushant.gupta\\Desktop\\Project Work\\Image Dataset\\Train\\FLIR1036.xml\n",
      "XML File Path: C:\\Users\\sushant.gupta\\Desktop\\Project Work\\Image Dataset\\Train\\FLIR1038.xml\n",
      "XML File Path: C:\\Users\\sushant.gupta\\Desktop\\Project Work\\Image Dataset\\Train\\FLIR1040.xml\n",
      "XML File Path: C:\\Users\\sushant.gupta\\Desktop\\Project Work\\Image Dataset\\Train\\FLIR1042.xml\n",
      "XML File Path: C:\\Users\\sushant.gupta\\Desktop\\Project Work\\Image Dataset\\Train\\FLIR1044.xml\n",
      "XML File Path: C:\\Users\\sushant.gupta\\Desktop\\Project Work\\Image Dataset\\Train\\FLIR1046.xml\n",
      "XML File Path: C:\\Users\\sushant.gupta\\Desktop\\Project Work\\Image Dataset\\Train\\FLIR1048.xml\n",
      "XML File Path: C:\\Users\\sushant.gupta\\Desktop\\Project Work\\Image Dataset\\Train\\FLIR1050.xml\n",
      "XML File Path: C:\\Users\\sushant.gupta\\Desktop\\Project Work\\Image Dataset\\Train\\FLIR1052.xml\n",
      "XML File Path: C:\\Users\\sushant.gupta\\Desktop\\Project Work\\Image Dataset\\Train\\FLIR1054.xml\n",
      "XML File Path: C:\\Users\\sushant.gupta\\Desktop\\Project Work\\Image Dataset\\Train\\FLIR1056.xml\n",
      "XML File Path: C:\\Users\\sushant.gupta\\Desktop\\Project Work\\Image Dataset\\Train\\FLIR1058.xml\n",
      "XML File Path: C:\\Users\\sushant.gupta\\Desktop\\Project Work\\Image Dataset\\Train\\FLIR1070.xml\n",
      "XML File Path: C:\\Users\\sushant.gupta\\Desktop\\Project Work\\Image Dataset\\Train\\FLIR1072.xml\n",
      "XML File Path: C:\\Users\\sushant.gupta\\Desktop\\Project Work\\Image Dataset\\Train\\FLIR1074.xml\n",
      "XML File Path: C:\\Users\\sushant.gupta\\Desktop\\Project Work\\Image Dataset\\Train\\FLIR1076.xml\n",
      "XML File Path: C:\\Users\\sushant.gupta\\Desktop\\Project Work\\Image Dataset\\Train\\FLIR1078.xml\n",
      "XML File Path: C:\\Users\\sushant.gupta\\Desktop\\Project Work\\Image Dataset\\Train\\FLIR1080.xml\n",
      "XML File Path: C:\\Users\\sushant.gupta\\Desktop\\Project Work\\Image Dataset\\Train\\FLIR1082.xml\n",
      "XML File Path: C:\\Users\\sushant.gupta\\Desktop\\Project Work\\Image Dataset\\Train\\FLIR1085.xml\n",
      "XML File Path: C:\\Users\\sushant.gupta\\Desktop\\Project Work\\Image Dataset\\Train\\FLIR1087.xml\n"
     ]
    }
   ],
   "source": [
    "for filename in os.listdir(folder_train):\n",
    "    if filename.endswith('.jpg'):\n",
    "        image_path= os.path.join(folder_train, filename)\n",
    "        xml_filename= filename[: -4] + '.xml'\n",
    "        xml_path= os.path.join(folder_train, xml_filename)\n",
    "\n",
    "        if os.path.exists(xml_path):\n",
    "            img, annotations= preprocess_data(image_path, xml_path)\n",
    "            train_images.append(img)\n",
    "            train_annotations.append(annotations)\n",
    "            h_img, h_bbx= H_flip_image_and_bbox(img, annotations)\n",
    "            train_images.append(h_img)\n",
    "            train_annotations.append(h_bbx)\n",
    "            v_img, v_bbx= V_flip_image_and_bbox(img, annotations)\n",
    "            train_images.append(v_img)\n",
    "            train_annotations.append(v_bbx)\n",
    "            contrast_img= tf.keras.layers.RandomContrast(factor= 0.2, seed= 42)(img)\n",
    "            train_images.append(img)\n",
    "            train_annotations.append(annotations)\n",
    "            \n",
    "        else:\n",
    "            print(f\"There exists no xml_file for the png_file {filename}.\")"
   ]
  },
  {
   "cell_type": "markdown",
   "id": "8e85cd78-4d97-43de-80a3-15bbfa0e8c53",
   "metadata": {},
   "source": [
    "### Converting Training Dataset into Array Format"
   ]
  },
  {
   "cell_type": "code",
   "execution_count": 34,
   "id": "00d7c25e-2ec3-4361-afbb-c3381563c0b1",
   "metadata": {},
   "outputs": [
    {
     "ename": "MemoryError",
     "evalue": "Unable to allocate 1.25 GiB for an array with shape (1112, 224, 224, 3) and data type float64",
     "output_type": "error",
     "traceback": [
      "\u001b[1;31m---------------------------------------------------------------------------\u001b[0m",
      "\u001b[1;31mMemoryError\u001b[0m                               Traceback (most recent call last)",
      "Cell \u001b[1;32mIn[34], line 1\u001b[0m\n\u001b[1;32m----> 1\u001b[0m x_train\u001b[38;5;241m=\u001b[39m \u001b[43mnp\u001b[49m\u001b[38;5;241;43m.\u001b[39;49m\u001b[43marray\u001b[49m\u001b[43m(\u001b[49m\u001b[43mtrain_images\u001b[49m\u001b[43m)\u001b[49m\n\u001b[0;32m      2\u001b[0m y_train\u001b[38;5;241m=\u001b[39m np\u001b[38;5;241m.\u001b[39marray(train_annotations)\n",
      "\u001b[1;31mMemoryError\u001b[0m: Unable to allocate 1.25 GiB for an array with shape (1112, 224, 224, 3) and data type float64"
     ]
    }
   ],
   "source": [
    "x_train= np.array(train_images)\n",
    "y_train= np.array(train_annotations)"
   ]
  },
  {
   "cell_type": "code",
   "execution_count": null,
   "id": "7152644c-f768-4bdf-9f36-feacc572665d",
   "metadata": {},
   "outputs": [],
   "source": [
    "x_train.shape"
   ]
  },
  {
   "cell_type": "code",
   "execution_count": null,
   "id": "cec39378-3d9c-4ef4-bf2c-6a8db9e3f1c7",
   "metadata": {},
   "outputs": [],
   "source": [
    "y_train.shape"
   ]
  },
  {
   "cell_type": "markdown",
   "id": "86b7ac31-c099-4cb1-9a12-a9610cc58ccb",
   "metadata": {},
   "source": [
    "## Custom Intersection over Union Metric"
   ]
  },
  {
   "cell_type": "code",
   "execution_count": null,
   "id": "b3f40941-800d-49e3-b073-f4cf9884a0ce",
   "metadata": {},
   "outputs": [],
   "source": [
    "def iou_metric(y_ground, y_predn):\n",
    "\n",
    "    y_ground= tf.cast(y_ground, tf.float32)\n",
    "    y_predn= tf.cast(y_predn, tf.float32)\n",
    "\n",
    "    # Coordinates of Intersection\n",
    "    x1= tf.maximum(y_ground[..., 0], y_predn[..., 0])\n",
    "    y1= tf.maximum(y_ground[..., 1], y_predn[..., 1])\n",
    "    x2= tf.minimum(y_ground[..., 2], y_predn[..., 2])\n",
    "    y2= tf.minimum(y_ground[..., 3], y_predn[..., 3])\n",
    "\n",
    "    # Area of Intersection\n",
    "    intrstn_area= tf.maximum(0.0, x2-x1)*tf.maximum(0.0, y2-y1)\n",
    "\n",
    "    # Area of union of boxes\n",
    "    ground_area= (y_ground[..., 2] - y_ground[..., 0])*(y_ground[...,3] - y_ground[..., 1])\n",
    "    predn_area= (y_predn[..., 2] - y_predn[..., 0])*(y_predn[...,3] - y_predn[..., 1])\n",
    "    un_area= ground_area + predn_area - intrstn_area\n",
    "    \n",
    "    int_over_un= intrstn_area/un_area\n",
    "\n",
    "    return tf.reduce_mean(int_over_un)"
   ]
  },
  {
   "cell_type": "markdown",
   "id": "5612e262-b68d-4f53-9d5c-84c481a9f528",
   "metadata": {},
   "source": [
    "## Pretrained Model for Transfer Learning"
   ]
  },
  {
   "cell_type": "code",
   "execution_count": null,
   "id": "984de787-0825-4f86-8957-4b5c01683c77",
   "metadata": {},
   "outputs": [],
   "source": [
    "base_model= tf.keras.applications.xception.Xception(weights= 'imagenet', include_top= False)\n",
    "avg= tf.keras.layers.GlobalAveragePooling2D()(base_model.output)\n",
    "loc_output= tf.keras.layers.Dense(4)(avg)\n",
    "model= tf.keras.Model(inputs= base_model.input, outputs= loc_output)\n",
    "model.compile(loss= 'mse', optimizer='adam', metrics=[iou_metric])"
   ]
  },
  {
   "cell_type": "code",
   "execution_count": null,
   "id": "dcffdf22-6326-4075-8079-fec719046001",
   "metadata": {},
   "outputs": [],
   "source": [
    "model.fit(x_train, y_train, epochs= 10)"
   ]
  },
  {
   "cell_type": "markdown",
   "id": "707fc1d8-f913-412c-809a-ade1e73ce614",
   "metadata": {},
   "source": [
    "## Unfreezing Lower Layers for Learning"
   ]
  },
  {
   "cell_type": "code",
   "execution_count": null,
   "id": "9dea006c-7d92-46aa-bc79-7751afa91881",
   "metadata": {},
   "outputs": [],
   "source": [
    "for layer in base_model.layers[56:]:\n",
    "    layer.trainable= True"
   ]
  },
  {
   "cell_type": "code",
   "execution_count": null,
   "id": "d84e986e-1d0b-49d2-a52d-c788cd8ad2c8",
   "metadata": {},
   "outputs": [],
   "source": [
    "model.compile(loss= 'mse', optimizer='adam', metrics=[iou_metric])"
   ]
  },
  {
   "cell_type": "code",
   "execution_count": null,
   "id": "0159d0e7-e0a6-4932-a6d0-69e668969f45",
   "metadata": {},
   "outputs": [],
   "source": [
    "# Display the summary of the base model to view its architecture and input shape\n",
    "model.fit(x_train, y_train, epochs= 15)"
   ]
  },
  {
   "cell_type": "code",
   "execution_count": null,
   "id": "c4e85a44-4aaf-480d-881a-b83968f66182",
   "metadata": {},
   "outputs": [],
   "source": [
    "train_annotations[:6]"
   ]
  },
  {
   "cell_type": "markdown",
   "id": "4204fc8e-3109-42a5-aaa2-caf04b329a5a",
   "metadata": {},
   "source": [
    "## Preparing Test Data"
   ]
  },
  {
   "cell_type": "code",
   "execution_count": null,
   "id": "9934480c-2d4c-439f-aa36-a377604c8bd5",
   "metadata": {},
   "outputs": [],
   "source": [
    "test_images= []\n",
    "test_annotations= []"
   ]
  },
  {
   "cell_type": "code",
   "execution_count": null,
   "id": "8d478b98-d007-4c4d-ae59-8e3699889655",
   "metadata": {},
   "outputs": [],
   "source": [
    "for filename in os.listdir(folder_test):\n",
    "    if filename.endswith('.jpg'):\n",
    "        img_path= os.path.join(folder_test, filename)\n",
    "        xml_path= os.path.join(folder_test, filename[:-4] + '.xml')\n",
    "\n",
    "        if os.path.exists(xml_path):\n",
    "            img, annotations= preprocess_data(img_path, xml_path)\n",
    "            test_images.append(img)\n",
    "            test_annotations.append(annotations)\n",
    "        else:\n",
    "            print(f\"There exists no xml_file for the png_file {filename}.\")"
   ]
  },
  {
   "cell_type": "code",
   "execution_count": null,
   "id": "eb57a624-3c00-428d-8d42-757bd69a901e",
   "metadata": {},
   "outputs": [],
   "source": [
    "x_test= np.array(test_images)\n",
    "y_test= np.array(test_annotations)"
   ]
  },
  {
   "cell_type": "code",
   "execution_count": null,
   "id": "13d87ef0-c870-493e-a9cd-7dcf318998b2",
   "metadata": {},
   "outputs": [],
   "source": [
    "predictions= model.predict(x_test)"
   ]
  },
  {
   "cell_type": "code",
   "execution_count": null,
   "id": "613b24be-7a91-49f0-89fe-7115511a557c",
   "metadata": {},
   "outputs": [],
   "source": [
    "predictions"
   ]
  },
  {
   "cell_type": "code",
   "execution_count": null,
   "id": "72fc71a8-9d74-4e04-b8e1-f3109e52a97a",
   "metadata": {},
   "outputs": [],
   "source": [
    "fin_predictions= np.round(predictions).astype(int)"
   ]
  },
  {
   "cell_type": "code",
   "execution_count": null,
   "id": "c1326bd3-215f-403a-815f-180ea59430e3",
   "metadata": {},
   "outputs": [],
   "source": [
    "for i in range(len(fin_predictions)):\n",
    "    image_with_boxes = create_bound_box(test_images[i].copy(), fin_predictions[i])\n",
    "    cv2.imshow(\"Image with Bounding Boxes\", image_with_boxes)\n",
    "    cv2.waitKey(0)\n",
    "    cv2.destroyAllWindows()\n",
    "    "
   ]
  },
  {
   "cell_type": "code",
   "execution_count": null,
   "id": "1d1d061c-8c25-44dd-81d4-7348690d5d56",
   "metadata": {},
   "outputs": [],
   "source": []
  },
  {
   "cell_type": "code",
   "execution_count": null,
   "id": "b1b6bc88-1725-4c77-b6ce-5f91da2408c7",
   "metadata": {},
   "outputs": [],
   "source": []
  },
  {
   "cell_type": "code",
   "execution_count": null,
   "id": "ed4830bc-de9e-404c-a94e-371dccab2a04",
   "metadata": {},
   "outputs": [],
   "source": []
  },
  {
   "cell_type": "code",
   "execution_count": null,
   "id": "6631380e-049a-4afa-8ddb-4353520b67ce",
   "metadata": {},
   "outputs": [],
   "source": []
  }
 ],
 "metadata": {
  "kernelspec": {
   "display_name": "Python 3 (ipykernel)",
   "language": "python",
   "name": "python3"
  },
  "language_info": {
   "codemirror_mode": {
    "name": "ipython",
    "version": 3
   },
   "file_extension": ".py",
   "mimetype": "text/x-python",
   "name": "python",
   "nbconvert_exporter": "python",
   "pygments_lexer": "ipython3",
   "version": "3.11.5"
  }
 },
 "nbformat": 4,
 "nbformat_minor": 5
}
